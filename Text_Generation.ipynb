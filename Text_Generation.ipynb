{
  "nbformat": 4,
  "nbformat_minor": 0,
  "metadata": {
    "colab": {
      "name": "Text Generation.ipynb",
      "version": "0.3.2",
      "provenance": [],
      "include_colab_link": true
    },
    "kernelspec": {
      "name": "python3",
      "display_name": "Python 3"
    },
    "accelerator": "GPU"
  },
  "cells": [
    {
      "cell_type": "markdown",
      "metadata": {
        "id": "view-in-github",
        "colab_type": "text"
      },
      "source": [
        "<a href=\"https://colab.research.google.com/github/jain-abhinav02/Text-Generation/blob/master/Text_Generation.ipynb\" target=\"_parent\"><img src=\"https://colab.research.google.com/assets/colab-badge.svg\" alt=\"Open In Colab\"/></a>"
      ]
    },
    {
      "cell_type": "code",
      "metadata": {
        "id": "HesUaSbLwTHo",
        "colab_type": "code",
        "colab": {
          "base_uri": "https://localhost:8080/",
          "height": 122
        },
        "outputId": "09e30283-1294-4d7a-d835-9fa8d8f85b38"
      },
      "source": [
        "# Run this cell to mount your Google Drive.\n",
        "from google.colab import drive\n",
        "drive.mount('/content/drive')"
      ],
      "execution_count": 1,
      "outputs": [
        {
          "output_type": "stream",
          "text": [
            "Go to this URL in a browser: https://accounts.google.com/o/oauth2/auth?client_id=947318989803-6bn6qk8qdgf4n4g3pfee6491hc0brc4i.apps.googleusercontent.com&redirect_uri=urn%3Aietf%3Awg%3Aoauth%3A2.0%3Aoob&scope=email%20https%3A%2F%2Fwww.googleapis.com%2Fauth%2Fdocs.test%20https%3A%2F%2Fwww.googleapis.com%2Fauth%2Fdrive%20https%3A%2F%2Fwww.googleapis.com%2Fauth%2Fdrive.photos.readonly%20https%3A%2F%2Fwww.googleapis.com%2Fauth%2Fpeopleapi.readonly&response_type=code\n",
            "\n",
            "Enter your authorization code:\n",
            "··········\n",
            "Mounted at /content/drive\n"
          ],
          "name": "stdout"
        }
      ]
    },
    {
      "cell_type": "code",
      "metadata": {
        "id": "DHOQzwWKvMef",
        "colab_type": "code",
        "colab": {}
      },
      "source": [
        "# import the modules\n",
        "import io\n",
        "import numpy as np\n",
        "import random\n",
        "from keras.models import Sequential\n",
        "from keras.layers import Dense,LSTM\n",
        "from keras.callbacks import LambdaCallback"
      ],
      "execution_count": 0,
      "outputs": []
    },
    {
      "cell_type": "code",
      "metadata": {
        "id": "4sq4GLrGvRhK",
        "colab_type": "code",
        "colab": {}
      },
      "source": [
        "# load the text into a string text\n",
        "# here, cp1252 encoding scheme is used\n",
        "path = \"drive/My Drive/Datasets/alice in wonderland.txt\"\n",
        "with io.open(path, encoding='cp1252') as f:\n",
        "    text = f.read().lower()"
      ],
      "execution_count": 0,
      "outputs": []
    },
    {
      "cell_type": "code",
      "metadata": {
        "id": "d2tGKFk5vqZ_",
        "colab_type": "code",
        "colab": {
          "base_uri": "https://localhost:8080/",
          "height": 34
        },
        "outputId": "52d1f5f0-314c-4bc7-88f3-93dcccd56769"
      },
      "source": [
        "# the size of the input text\n",
        "print(len(text))"
      ],
      "execution_count": 5,
      "outputs": [
        {
          "output_type": "stream",
          "text": [
            "144435\n"
          ],
          "name": "stdout"
        }
      ]
    },
    {
      "cell_type": "code",
      "metadata": {
        "id": "5Pr2Ydhs0Lhs",
        "colab_type": "code",
        "colab": {
          "base_uri": "https://localhost:8080/",
          "height": 34
        },
        "outputId": "c7e60c4a-ec42-438a-df5f-f45c7ac7085a"
      },
      "source": [
        "# let us fix input sentence length to maxlen\n",
        "# create a number of sample sentence with the next characters as output\n",
        "maxlen = 40\n",
        "step =3\n",
        "sentences= []\n",
        "out_chars=[]\n",
        "for i in range(0,len(text)-maxlen,step):\n",
        "  sentences.append(text[i:i+maxlen])\n",
        "  out_chars.append(text[i+maxlen])\n",
        "print(\"No of samples= \",len(sentences))"
      ],
      "execution_count": 6,
      "outputs": [
        {
          "output_type": "stream",
          "text": [
            "No of samples=  48132\n"
          ],
          "name": "stdout"
        }
      ]
    },
    {
      "cell_type": "code",
      "metadata": {
        "id": "7v9LdFV01C8n",
        "colab_type": "code",
        "colab": {}
      },
      "source": [
        "# a glimpse of the sampling\n",
        "for i in range(20):\n",
        "  print(sentences[i],' ',out_chars[i])"
      ],
      "execution_count": 0,
      "outputs": []
    },
    {
      "cell_type": "code",
      "metadata": {
        "id": "8ovQeQ8m1lwN",
        "colab_type": "code",
        "colab": {
          "base_uri": "https://localhost:8080/",
          "height": 54
        },
        "outputId": "7d82f945-7a95-409c-b631-026425307f89"
      },
      "source": [
        "# the set of all characters used in text\n",
        "list_chars=list(set(text))\n",
        "print(list_chars)"
      ],
      "execution_count": 10,
      "outputs": [
        {
          "output_type": "stream",
          "text": [
            "['(', 'r', ']', 'p', '!', 'z', 't', 'i', 'y', 's', 'l', 'd', ',', '*', ';', 'q', '“', 'n', 'o', 'h', ' ', 'c', 'w', '-', '”', 'm', '’', 'u', '‘', 'x', '.', 'a', '_', 'e', 'g', 'b', '[', 'v', ')', '3', 'j', '\\n', 'k', 'f', '0', ':', '?']\n"
          ],
          "name": "stdout"
        }
      ]
    },
    {
      "cell_type": "code",
      "metadata": {
        "id": "3eM9ipxy2Gts",
        "colab_type": "code",
        "colab": {
          "base_uri": "https://localhost:8080/",
          "height": 34
        },
        "outputId": "51a2cc62-2f00-48cc-f7b2-0925b15def5e"
      },
      "source": [
        "# count of dictionary to be created\n",
        "print(len(list_chars))"
      ],
      "execution_count": 11,
      "outputs": [
        {
          "output_type": "stream",
          "text": [
            "47\n"
          ],
          "name": "stdout"
        }
      ]
    },
    {
      "cell_type": "code",
      "metadata": {
        "id": "0je_xYN72UGV",
        "colab_type": "code",
        "colab": {}
      },
      "source": [
        "# create two dictionaries mapping characters to indices and vice versa\n",
        "char2ind=dict()\n",
        "ind2char=dict()\n",
        "for i in range(len(list_chars)):\n",
        "  ch=list_chars[i]\n",
        "  char2ind[ch]=i\n",
        "  ind2char[i]=ch"
      ],
      "execution_count": 0,
      "outputs": []
    },
    {
      "cell_type": "code",
      "metadata": {
        "id": "t5e76s9c2zb_",
        "colab_type": "code",
        "colab": {
          "base_uri": "https://localhost:8080/",
          "height": 54
        },
        "outputId": "e3716928-82bf-4ce4-f9c9-cfb27e97daa3"
      },
      "source": [
        "char2ind.items()"
      ],
      "execution_count": 13,
      "outputs": [
        {
          "output_type": "execute_result",
          "data": {
            "text/plain": [
              "dict_items([('(', 0), ('r', 1), (']', 2), ('p', 3), ('!', 4), ('z', 5), ('t', 6), ('i', 7), ('y', 8), ('s', 9), ('l', 10), ('d', 11), (',', 12), ('*', 13), (';', 14), ('q', 15), ('“', 16), ('n', 17), ('o', 18), ('h', 19), (' ', 20), ('c', 21), ('w', 22), ('-', 23), ('”', 24), ('m', 25), ('’', 26), ('u', 27), ('‘', 28), ('x', 29), ('.', 30), ('a', 31), ('_', 32), ('e', 33), ('g', 34), ('b', 35), ('[', 36), ('v', 37), (')', 38), ('3', 39), ('j', 40), ('\\n', 41), ('k', 42), ('f', 43), ('0', 44), (':', 45), ('?', 46)])"
            ]
          },
          "metadata": {
            "tags": []
          },
          "execution_count": 13
        }
      ]
    },
    {
      "cell_type": "code",
      "metadata": {
        "id": "BeqG8LIw23JQ",
        "colab_type": "code",
        "colab": {
          "base_uri": "https://localhost:8080/",
          "height": 34
        },
        "outputId": "e61713fa-a940-414e-af7d-6b3a7b9786a9"
      },
      "source": [
        "print(char2ind['a'])"
      ],
      "execution_count": 15,
      "outputs": [
        {
          "output_type": "stream",
          "text": [
            "31\n"
          ],
          "name": "stdout"
        }
      ]
    },
    {
      "cell_type": "code",
      "metadata": {
        "id": "c987H-le3D6P",
        "colab_type": "code",
        "colab": {
          "base_uri": "https://localhost:8080/",
          "height": 54
        },
        "outputId": "f6e9f73e-39ff-4f9c-c4b3-3ee747677c90"
      },
      "source": [
        "print(ind2char.items())"
      ],
      "execution_count": 16,
      "outputs": [
        {
          "output_type": "stream",
          "text": [
            "dict_items([(0, '('), (1, 'r'), (2, ']'), (3, 'p'), (4, '!'), (5, 'z'), (6, 't'), (7, 'i'), (8, 'y'), (9, 's'), (10, 'l'), (11, 'd'), (12, ','), (13, '*'), (14, ';'), (15, 'q'), (16, '“'), (17, 'n'), (18, 'o'), (19, 'h'), (20, ' '), (21, 'c'), (22, 'w'), (23, '-'), (24, '”'), (25, 'm'), (26, '’'), (27, 'u'), (28, '‘'), (29, 'x'), (30, '.'), (31, 'a'), (32, '_'), (33, 'e'), (34, 'g'), (35, 'b'), (36, '['), (37, 'v'), (38, ')'), (39, '3'), (40, 'j'), (41, '\\n'), (42, 'k'), (43, 'f'), (44, '0'), (45, ':'), (46, '?')])\n"
          ],
          "name": "stdout"
        }
      ]
    },
    {
      "cell_type": "code",
      "metadata": {
        "id": "cTM-qjKW3LIB",
        "colab_type": "code",
        "colab": {
          "base_uri": "https://localhost:8080/",
          "height": 34
        },
        "outputId": "12aa69b3-9b57-4b3b-d70a-f2e1d575fdf5"
      },
      "source": [
        "print(ind2char[31])"
      ],
      "execution_count": 18,
      "outputs": [
        {
          "output_type": "stream",
          "text": [
            "a\n"
          ],
          "name": "stdout"
        }
      ]
    },
    {
      "cell_type": "code",
      "metadata": {
        "id": "HEFYXjxX3O9X",
        "colab_type": "code",
        "colab": {}
      },
      "source": [
        "# vectorise the input samples using numpy arrays\n",
        "x = np.zeros((len(sentences),maxlen,len(list_chars)),dtype=np.bool)\n",
        "y = np.zeros((len(sentences),len(list_chars)),dtype=np.bool)"
      ],
      "execution_count": 0,
      "outputs": []
    },
    {
      "cell_type": "code",
      "metadata": {
        "id": "bAeb5MlN34-A",
        "colab_type": "code",
        "colab": {}
      },
      "source": [
        "# using dictionary to convert sample sentences into numpy arrays\n",
        "for i,sentence in enumerate(sentences):\n",
        "  for j,char in enumerate(sentence):\n",
        "    x[i,j,char2ind[char]]=True\n",
        "  y[i,char2ind[out_chars[i]]]=True"
      ],
      "execution_count": 0,
      "outputs": []
    },
    {
      "cell_type": "code",
      "metadata": {
        "id": "iiIZp0AM5U13",
        "colab_type": "code",
        "colab": {
          "base_uri": "https://localhost:8080/",
          "height": 136
        },
        "outputId": "4abb8e0f-e9b1-4293-dd3f-873126f3d7e3"
      },
      "source": [
        "print(x[0])"
      ],
      "execution_count": 22,
      "outputs": [
        {
          "output_type": "stream",
          "text": [
            "[[False False False ... False False False]\n",
            " [False False False ... False False False]\n",
            " [False False False ... False False False]\n",
            " ...\n",
            " [False False False ... False False False]\n",
            " [False False False ... False False False]\n",
            " [False False False ... False False False]]\n"
          ],
          "name": "stdout"
        }
      ]
    },
    {
      "cell_type": "code",
      "metadata": {
        "id": "K1zib1UH5XbO",
        "colab_type": "code",
        "colab": {
          "base_uri": "https://localhost:8080/",
          "height": 85
        },
        "outputId": "6bb173e0-3fe3-42e8-9d23-411b98059153"
      },
      "source": [
        "print(x[0,0])"
      ],
      "execution_count": 23,
      "outputs": [
        {
          "output_type": "stream",
          "text": [
            "[False False False False False False False False False False False False\n",
            " False False False False False False False False False False False False\n",
            " False False False False False False False  True False False False False\n",
            " False False False False False False False False False False False]\n"
          ],
          "name": "stdout"
        }
      ]
    },
    {
      "cell_type": "code",
      "metadata": {
        "id": "8JMb9IxS5ayo",
        "colab_type": "code",
        "colab": {
          "base_uri": "https://localhost:8080/",
          "height": 85
        },
        "outputId": "137f8302-3ae0-4ed5-856a-e6fe4e76ca67"
      },
      "source": [
        "print(y[0])"
      ],
      "execution_count": 24,
      "outputs": [
        {
          "output_type": "stream",
          "text": [
            "[False False False False False False False False False False False False\n",
            " False False False False False False False False False  True False False\n",
            " False False False False False False False False False False False False\n",
            " False False False False False False False False False False False]\n"
          ],
          "name": "stdout"
        }
      ]
    },
    {
      "cell_type": "code",
      "metadata": {
        "id": "0KPQfnL75eT7",
        "colab_type": "code",
        "colab": {
          "base_uri": "https://localhost:8080/",
          "height": 34
        },
        "outputId": "cc9e3ea8-308e-4661-b39e-ba991f6c6d4c"
      },
      "source": [
        "print(type(x))"
      ],
      "execution_count": 25,
      "outputs": [
        {
          "output_type": "stream",
          "text": [
            "<class 'numpy.ndarray'>\n"
          ],
          "name": "stdout"
        }
      ]
    },
    {
      "cell_type": "code",
      "metadata": {
        "id": "Uzr7c_Aq5jbR",
        "colab_type": "code",
        "colab": {
          "base_uri": "https://localhost:8080/",
          "height": 105
        },
        "outputId": "58e41733-62e7-4296-830f-a0acc7831450"
      },
      "source": [
        "# build the model\n",
        "model=Sequential()\n",
        "model.add(LSTM(128,input_shape=(maxlen,len(list_chars))))\n",
        "model.add(Dense(len(list_chars),activation='softmax'))"
      ],
      "execution_count": 29,
      "outputs": [
        {
          "output_type": "stream",
          "text": [
            "W0625 04:36:40.330406 139944339470208 deprecation_wrapper.py:119] From /usr/local/lib/python3.6/dist-packages/keras/backend/tensorflow_backend.py:517: The name tf.placeholder is deprecated. Please use tf.compat.v1.placeholder instead.\n",
            "\n",
            "W0625 04:36:40.345288 139944339470208 deprecation_wrapper.py:119] From /usr/local/lib/python3.6/dist-packages/keras/backend/tensorflow_backend.py:4138: The name tf.random_uniform is deprecated. Please use tf.random.uniform instead.\n",
            "\n"
          ],
          "name": "stderr"
        }
      ]
    },
    {
      "cell_type": "code",
      "metadata": {
        "id": "HqJQ2TVM8Eex",
        "colab_type": "code",
        "colab": {}
      },
      "source": [
        "# generate text\n",
        "def gen_text(epochs,_):\n",
        "  seed=random.randint(0,len(text)-maxlen)\n",
        "  base=text[seed:seed+maxlen]\n",
        "  print(\"Base sentence \",base,end='....')\n",
        "  for i in range(200):\n",
        "    test_x=np.zeros((1,maxlen,len(list_chars)))\n",
        "    for j,char in enumerate(base):\n",
        "      test_x[0,j,char2ind[char]]=1.0\n",
        "    res=model.predict(test_x)[0]\n",
        "    res=np.asarray(res).astype('float64')\n",
        "    res/=np.sum(res)\n",
        "    res=np.random.multinomial(1,res,1)\n",
        "    test_y=ind2char[np.argmax(res)]\n",
        "    base=base[1:]+test_y\n",
        "    print(test_y,end='')\n",
        "  print()"
      ],
      "execution_count": 0,
      "outputs": []
    },
    {
      "cell_type": "code",
      "metadata": {
        "id": "C7cjG5pY-ezP",
        "colab_type": "code",
        "colab": {}
      },
      "source": [
        "cb_print=LambdaCallback(on_epoch_end=gen_text)"
      ],
      "execution_count": 0,
      "outputs": []
    },
    {
      "cell_type": "code",
      "metadata": {
        "id": "aM8QKbdZ6yXa",
        "colab_type": "code",
        "colab": {}
      },
      "source": [
        "model.compile(loss='categorical_crossentropy',optimizer='adam')"
      ],
      "execution_count": 0,
      "outputs": []
    },
    {
      "cell_type": "code",
      "metadata": {
        "id": "RUI54rv--xw8",
        "colab_type": "code",
        "colab": {
          "base_uri": "https://localhost:8080/",
          "height": 374
        },
        "outputId": "0bfe3ee5-6af2-44a0-f590-1cd26159ab7d"
      },
      "source": [
        "model.fit(x,y,epochs=2,batch_size=64,callbacks=[cb_print])"
      ],
      "execution_count": 67,
      "outputs": [
        {
          "output_type": "stream",
          "text": [
            "Epoch 1/2\n",
            "48132/48132 [==============================] - 51s 1ms/step - loss: 0.6688\n",
            "Base sentence  iver all over with fright.\n",
            "‘oh, i beg yo....urseld, she went on? i should lizes had no secropfulers, but the fourt you?’ the pattire.\n",
            "\n",
            "‘are they moled all make your pacery! sleessy quite nold all lay\n",
            "a toff\n",
            "intabo uping the jory lasters.\n",
            "\n",
            "‘as t\n",
            "Epoch 2/2\n",
            "48132/48132 [==============================] - 51s 1ms/step - loss: 0.6538\n",
            "Base sentence  said nothing.\n",
            "\n",
            "‘perhaps it doesn’t under....sent and\n",
            "all, and a long\n",
            "to he was quite, and exacklonwardly teal his a\n",
            "a long to herself. ‘and on youre leves this.’\n",
            "\n",
            "‘--and then, you geg,’ said the cat, ‘low as the look hisseed a moment. ‘it too b\n"
          ],
          "name": "stdout"
        },
        {
          "output_type": "execute_result",
          "data": {
            "text/plain": [
              "<keras.callbacks.History at 0x7f469ea65da0>"
            ]
          },
          "metadata": {
            "tags": []
          },
          "execution_count": 67
        }
      ]
    },
    {
      "cell_type": "code",
      "metadata": {
        "id": "j6cvjgHCWjfP",
        "colab_type": "code",
        "colab": {}
      },
      "source": [
        ""
      ],
      "execution_count": 0,
      "outputs": []
    }
  ]
}